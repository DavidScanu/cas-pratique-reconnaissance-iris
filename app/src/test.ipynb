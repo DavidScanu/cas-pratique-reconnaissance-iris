{
 "cells": [
  {
   "cell_type": "code",
   "execution_count": 48,
   "metadata": {},
   "outputs": [
    {
     "name": "stdout",
     "output_type": "stream",
     "text": [
      "WARNING:tensorflow:Model was constructed with shape (240, 320, 3) for input KerasTensor(type_spec=TensorSpec(shape=(240, 320, 3), dtype=tf.uint8, name='resizing_input'), name='resizing_input', description=\"created by layer 'resizing_input'\"), but it was called on an input with incompatible shape (None, 240, 320, 3).\n"
     ]
    }
   ],
   "source": [
    "import pandas as pd\n",
    "import tensorflow as tf\n",
    "import keras\n",
    "from PIL import Image\n",
    "import io\n",
    "import numpy as np\n",
    "import pickle\n",
    "from sklearn.preprocessing import LabelEncoder\n",
    "\n",
    "# Importer le modèle 'LR'\n",
    "lr_classifier = keras.models.load_model('models/lr_classifier.keras')\n",
    "lr_classifier.summary()\n",
    "\n",
    "\n",
    "image_pil = Image.open('0-right.jpg') # PIL Object\n",
    "# img_test = cv2.imread('/content/MMU-Iris-Database/10/right/fionar1.bmp')\n",
    "\n",
    "img_test_01_dim_4 = np.expand_dims(img_test_01, axis=0)\n",
    "y_test_pred_one_img = [np.argmax(v) for v in lr_classifier.predict(img_test_01_dim_4)]\n",
    "y_test_pred_one_img"
   ]
  }
 ],
 "metadata": {
  "kernelspec": {
   "display_name": "Python 3",
   "language": "python",
   "name": "python3"
  },
  "language_info": {
   "codemirror_mode": {
    "name": "ipython",
    "version": 3
   },
   "file_extension": ".py",
   "mimetype": "text/x-python",
   "name": "python",
   "nbconvert_exporter": "python",
   "pygments_lexer": "ipython3",
   "version": "3.10.6"
  },
  "orig_nbformat": 4
 },
 "nbformat": 4,
 "nbformat_minor": 2
}
